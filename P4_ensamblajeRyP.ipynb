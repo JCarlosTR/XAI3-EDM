{
 "cells": [
  {
   "cell_type": "markdown",
   "metadata": {},
   "source": [
    "<h1 align=\"center\">Práctica 4. El problema del ensamblaje (Ramificación y Poda)</h1>\n",
    "<h3 style=\"display:block; margin-top:5px;\" align=\"center\">Algorítmica</h3>\n",
    "<h3 style=\"display:block; margin-top:5px;\" align=\"center\">Grado en Ciencia de Datos</h3>\n",
    "<h3 style=\"display:block; margin-top:5px;\" align=\"center\">2024-2025</h3>    \n",
    "<h3 style=\"display:block; margin-top:5px;\" align=\"center\">Universitat Politècnica de València</h3>\n",
    "<br>"
   ]
  },
  {
   "cell_type": "markdown",
   "metadata": {},
   "source": [
    "**Pon/poned aquí tú/vuestros nombre(s):**\n",
    "- Jaime Ballester Solá\n",
    "- Marcos Ranchal García"
   ]
  },
  {
   "cell_type": "markdown",
   "metadata": {},
   "source": [
    "## Índice\n",
    "1. ### [El problema del ensamblaje](#introduccion)\n",
    "1. ### [Actividad 1: Solución voraz](#actividad1)\n",
    "1. ### [Actividad 2: Ramificación](#actividad2)\n",
    "1. ### [Actividad 3: Calcular estadísticas](#actividad3)\n",
    "1. ### [Código a completar](#codigo)\n"
   ]
  },
  {
   "cell_type": "markdown",
   "metadata": {},
   "source": [
    "<a id='introduccion'></a>\n",
    "# El problema del ensamblaje\n",
    "\n",
    "Se trata del problema descrito en los apuntes de teoría en la sección 9.4. Lo mejor es ir directamente al pdf para ver la descripción del problema, pero resumimos aquí algunos datos:\n",
    "\n",
    "- Hay que ensamblar un total de $M$ piezas con el menor coste posible.\n",
    "- El coste de ensamblar la pieza $i$ depende del número de piezas ya ensambladas.\n",
    "- Los datos de entrada se resumen en una matriz `costes` de tamaño $M \\times M$ con valores positivos (no hace falta que sean enteros). El valor `costes[i,j]` representa el coste de situar la pieza `i` (un identificador entre `0` y `M-1`) cuando ya se han ensamblado `j` piezas.\n",
    "- Las soluciones son tuplas de la forma $(x_0,x_1,\\ldots,x_{M-1})$ donde $x_i$ es el nº piezas ya montadas en el momento en que se decide montar la pieza que identificamos con el índice $i$.\n",
    "- La función objetivo es: $f((x_0,x_1,\\ldots,x_{M-1})) = \\sum_{0 \\leq i < M} \\mbox{costes}[i,x_i]$\n",
    "- Todas las permutaciones serían factibles, se trata de encontrar una que corresponda a un coste mínimo (podría haber empates).\n",
    "- Se trata de un problema conocido en teoría de grafos, el [Problema de la asignación](https://es.wikipedia.org/wiki/Problema_de_la_asignaci%C3%B3n) o [Assignment problem](https://en.wikipedia.org/wiki/Assignment_problem) para el que existen algoritmos como [Kuhn Munkres](https://en.wikipedia.org/wiki/Hungarian_algorithm) con un coste polinómico ($O(|V|^3)$). Sería interesante comparar los algoritmos de ramificación y poda de esta práctica con estos otros, pero en una sola sesión no da tiempo."
   ]
  },
  {
   "cell_type": "markdown",
   "metadata": {},
   "source": [
    "## Generación de instancias\n",
    "\n",
    "Para generar instancias concretas para una talla dada, vamos a recurrir a la generación de números aleatorios utilizando la siguiente función de la biblioteca `numpy`:"
   ]
  },
  {
   "cell_type": "code",
   "execution_count": 1,
   "metadata": {},
   "outputs": [],
   "source": [
    "import numpy as np\n",
    "def genera_instancia(M, low=1, high=1000):\n",
    "    return np.random.randint(low=low,high=high,\n",
    "                             size=(M,M),dtype=int)"
   ]
  },
  {
   "cell_type": "code",
   "execution_count": 2,
   "metadata": {},
   "outputs": [
    {
     "data": {
      "text/plain": [
       "array([[4, 2, 2, 4],\n",
       "       [1, 1, 1, 3],\n",
       "       [2, 6, 9, 1],\n",
       "       [1, 5, 6, 1]], dtype=int32)"
      ]
     },
     "execution_count": 2,
     "metadata": {},
     "output_type": "execute_result"
    }
   ],
   "source": [
    "costes = genera_instancia(4,high=10)\n",
    "costes"
   ]
  },
  {
   "cell_type": "markdown",
   "metadata": {},
   "source": [
    "Con una matriz como ésta (cada vez que lo ejecutes dará normalmente otra distinta):\n",
    "\n",
    "```python\n",
    "array([[7, 3, 7, 2],\n",
    "       [9, 9, 4, 1],\n",
    "       [9, 4, 8, 1],\n",
    "       [3, 4, 8, 4]])\n",
    "```\n",
    "\n",
    "el coste de ensamblar la pieza 0 en la cuarta posición (después de haber ensamblado 3 piezas) es `costes[0,3]` que vale `2`.\n"
   ]
  },
  {
   "cell_type": "markdown",
   "metadata": {},
   "source": [
    "## Cota optimista\n",
    "\n",
    "Vamos a utilizar como cota optimista (cota inferior en este caso, pues es un problema de minimización) la suma de:\n",
    "\n",
    "- La parte conocida.\n",
    "- Una estimación optimista del coste de situar las piezas que faltan.\n",
    "\n",
    "Concretamente, la estimación utilizada es una de las descritas en los apuntes de teoría que permite su cálculo de forma incremental:\n",
    "\n",
    "> Suponer que para cada pieza que queda por ensamblar se selecciona la posición en la que cueste menos ensamblar, **sin importar que esa posición ya haya sido utilizada.**.\n",
    "\n",
    "\n",
    "$\\mbox{optimistic}((x_0,x_1,\\ldots,x_{k-1})) = \\sum_{0\\leq i<k} \\mbox{costes}[i,x_i] + \\sum_{k  \\leq i < M} \\mbox{min}_{0 \\leq j < M} \\mbox{costes}[i,j] $\n",
    "\n",
    "Es decir, completamos la parte desconocida con el menor coste posible para cada una de las piezas que quedan por ensamblar.\n",
    "\n",
    "Obviamente, podemos precalcular esos mínimos al inicio para reutilizarlos a lo largo del algoritmo.\n",
    "\n",
    "Esta cota se puede actualizar **de forma incremental** (teniendo en cuenta el valor de la cota del padre) al ramificar un estado.\n",
    "\n",
    "> **Nota:** Esta cota **NO** es la más informada para podar por cota optimista. Existe otra más informada consistente en no tener en cuenta los instantes utilizados por las piezas que ya forman parte de la solución parcial. El problema de esta cota alternativa es que resulta más cara de calcular.\n"
   ]
  },
  {
   "cell_type": "markdown",
   "metadata": {},
   "source": [
    "## Representación de los estados y del conjunto de estados activos\n",
    "\n",
    "- Un estado intermedio $(x_0,x_1,\\ldots,x_{k-1})$ se representará mediante una lista Python con esos mismos valores. El estado inicial será la lista vacía `[]`. Un estado solución será una lista de talla $M$.\n",
    "- El conjunto de estados activos será una cola de prioridad implementada mediante un *minheap* similar a los estudiados en la asignatura EDA, pero vamos a recurrir a una biblioteca estándar de python llamada `heapq`:"
   ]
  },
  {
   "cell_type": "code",
   "execution_count": 3,
   "metadata": {},
   "outputs": [],
   "source": [
    "import heapq"
   ]
  },
  {
   "cell_type": "markdown",
   "metadata": {},
   "source": [
    "El siguiente código ilustra las 2 funciones básicas para utilizar un `heapq` como cola de prioridad.\n",
    "\n",
    "Observa que guardamos tuplas donde el primer campo es el *score* para que así se ordenen por *score* de menor a mayor (nos sirve porque estamos en un problema de **minimización**):"
   ]
  },
  {
   "cell_type": "code",
   "execution_count": 4,
   "metadata": {},
   "outputs": [
    {
     "name": "stdout",
     "output_type": "stream",
     "text": [
      "[(3, [2]), (10, [1]), (100, [0, 1])]\n",
      "Vamos sacando tupla (score,estado) ordenadamente:\n",
      "3 [2]\n",
      "10 [1]\n",
      "100 [0, 1]\n"
     ]
    }
   ],
   "source": [
    "A = [] # conjunto vacío de estados activos, es una lista Python normal y corriente\n",
    "for score,s in [(10,[1]),(3,[2]),(100,[0,1])]:\n",
    "    heapq.heappush(A,(score,s)) # insertar i en la cola de prioridad A\n",
    "print(A) # no sale ordenado necesariamente, es un minheap...\n",
    "print(\"Vamos sacando tupla (score,estado) ordenadamente:\")\n",
    "while len(A)>0:\n",
    "    score,s = heapq.heappop(A) # extraer el menor elemento de la cola de prioridad A\n",
    "    print(score,s)"
   ]
  },
  {
   "cell_type": "markdown",
   "metadata": {},
   "source": [
    "## Esquema de ramificación y poda, funciones auxiliares\n",
    "\n",
    "Podemos implementar el esquema de ramificación y poda o *branch and bound* de dos formas alternativas e igualmente válidas (entre otras formas más):\n",
    "\n",
    "- Utilizar una clase y métodos (como en los apuntes de teoría).\n",
    "- Utilizar una función y poner dentro otras funciones (clausuras o *closure* en inglés).\n",
    "\n",
    "Vamos a optar por esta segunda opción ya que básicamente podemos ver el problema del ensamblaje como una función que recibe la matriz de costes y nos devuelve la mejor solución encontrada (es decir, tiene un punto de entrada y uno de salida).\n",
    "\n",
    "Las funciones auxiliares utilizadas son:\n",
    "\n",
    "- `branch` recibe una solución parcial (un estado intermedio) y su score asociado y va generando soluciones hijas (y su respectivos score) consistentes en añadir un nuevo $x_k$. Se trata de determinar cuántas piezas se han ensamblado en el momento de ensamblar la pieza $k$-ésima. El score asociado **se debe calcular de manera incremental**.\n",
    "\n",
    "- `is_complete` se limita a decir si una solución parcial es solución o estado terminal. Se proporciona ya implementada puesto que es tan fácil como ver si la longitud de la solución parcial es igual a $M$.\n",
    "\n",
    "- `greedy_solution` calcula una solución *arbitraria* para inicializar la mejor solución en curso. Esto es importante para empezar a podar tan pronto como sea posible. Aunque serviría \"cualquier\" solución (ejemplo: `[0,1,2,...,M-1]`) cuanto mejor sea esta primera solución, tanto mejor. La restricción es que no debe ser demasiado costosa de calcular. Veremos varias formas de implementar una solución voraz.\n",
    "\n",
    "El bucle principal de ramificación y poda es como sigue:\n",
    "\n",
    "\n",
    "```python\n",
    "    ...\n",
    "    while len(A)>0 and A[0][0] < fx:\n",
    "        s_score, s = heapq.heappop(A)\n",
    "        for child_score, child in branch(s_score, s):\n",
    "            if is_complete(child): # si es terminal\n",
    "                # es factible (pq branch solo genera factibles)\n",
    "                # falta ver si mejora la mejor solucion en curso\n",
    "                if child_score < fx:\n",
    "                    fx, x = child_score, child\n",
    "            else: # no es terminal\n",
    "                # lo metemos en el cjt de estados activos si\n",
    "                # supera la poda por cota optimista:\n",
    "                if child_score < fx:\n",
    "                    heapq.heappush(A, (child_score, child) )\n",
    "    return x,fx\n",
    "```\n",
    "\n",
    "Observa que se trata de la estrategia conocida como **poda implícita**:\n",
    "\n",
    "- Cuando se encuentra una solución que mejora a la mejor hasta el momento se actualiza la mejor solución pero no se revisa el conjunto de estados activos `A`. Es decir, `A` puede contener soluciones que se podrían eliminar con una poda pero que cuando se introdujeron en su momento no se podaron porque el rasero o criterio era distinto. La poda explícita (no la utilizamos en esta práctica) aprovecharía este momento para eliminar esas soluciones podables.\n",
    "\n",
    "- Por otra parte, no basta con poner `while len(A)>0` sino que hace falta añadir `and A[0][0] < fx:` porque incluso sin vaciar el conjunto de estados activos si sacamos una solución peor que `fx` (score de la mejor solución hasta el momento) todas las que queden en `A` también son podables y no tiene interés procesarlas. Esto NO haría falta con poda explícita.\n",
    "\n",
    "A continuación mostramos las 3 actividades a realizar y posteriormente el código donde hay que implementar o codificar esas actividades."
   ]
  },
  {
   "cell_type": "markdown",
   "metadata": {},
   "source": [
    "<a id='actividad1'></a>\n",
    "# Actividad 1: Solución voraz\n",
    "\n",
    "Se trata de obtener una solución con la que inicializar la variable `x` (mejor solución encontrada hasta el momento) y su score correspondiente `fx`.\n",
    "\n",
    "En el problema del ensamblaje es trivial obtener una solución porque cualquier permutación de índices entre `0` y `M-1` es una solución válida. Es decir, podríamos hacer algo así:\n",
    "\n",
    "```python\n",
    "def ensamblaje(costes,\n",
    "               verbosity=1):\n",
    "\n",
    "    ...\n",
    "    \n",
    "    def naive_solution():\n",
    "        score, solution = 0, []\n",
    "        for i in range(M):\n",
    "            solution.append(i)\n",
    "            score += costes[i,i]\n",
    "        return score,solution\n",
    "```\n",
    "\n",
    "Es decir, cada $x_i$ es igual a $i$ (los objetos se ponen en orden 0,1,2,...).\n",
    "\n",
    "Pero cuanto mejor sea la solución inicial antes empezaremos a podar mejor, sin llegar al extremo de calcularla de forma exacta porque, en ese caso ¿para qué usar luego ramificación y poda?\n",
    "\n",
    "En esta primera actividad debes completar la función `greedy_solution` donde existen varias opciones, entre ellas:\n",
    "\n",
    "1. Ir por orden pieza a pieza (fila $i$ de la matriz) y elegir el valor $x_i$ (el momento de colocación de esa pieza) que resulte más barato de los que siguen disponibles. Es decir, ir fila por fila de la matriz y elegir (para esa fila) la columna menor de las columnas previamente no elegidas.\n",
    "2. Ir por orden instante a instante (columna de la matriz) y elegir para cada una la pieza (fila de la matriz) que sea más barata de colocar en ese instante (de entre las piezas que queden por ensamblar).\n",
    "3. Ordenar de menor a mayor todos valores de la matriz de costes recordando sus coordenadas. Después se recorre utilizando los valores que correspondan a piezas e instantes válidos (descartando el resto) hasta haber situado todas las piezas.\n",
    "4. Cualquier combinación de los anteriores (se calculan soluciones con varios algoritmos y nos quedamos con la mejor solución).\n",
    "\n",
    "Debes implementar al menos la primera, las dos siguientes se pueden implementar de forma opcional. La última es trivial (llamar a las anteriores y quedarse el mejor resultado)."
   ]
  },
  {
   "cell_type": "markdown",
   "metadata": {},
   "source": [
    "<a id='actividad2'></a>\n",
    "# Actividad 2: Función de ramificación\n",
    "\n",
    "Se trata de completar la función `branch` que recibe 2 argumentos:\n",
    "\n",
    "- El score del estado padre.\n",
    "- El estado padre $[x_0,x_1,\\ldots,x_{k-1}]$.\n",
    "\n",
    "Podemos asumir que dicha lista tiene una longitud menor a `M` porque sólo se utiliza `branch` si el estado no es terminal.\n",
    "\n",
    "Esta función puede hacer una de estas dos cosas:\n",
    "\n",
    "- Ir devolviendo los estados hijos usando `yield`.\n",
    "- Generar una lista de los estados hijos y devolver dicha lista.\n",
    "\n",
    "Ambas aproximaciones son válidas en la medida en que ambas se pueden utilizar desde la función principal en el bucle que hemos descrito arriba y que repetimos a continuación:\n",
    "\n",
    "```python\n",
    "    ...\n",
    "    while len(A)>0 and A[0][0] < fx:\n",
    "        s_score, s = heapq.heappop(A)\n",
    "        for child_score, child in branch(s_score, s):\n",
    "            ...\n",
    "```\n",
    "\n",
    "Es importante calcular el valor `child_score` de manera **incremental** a partir del valor `s_score`. Para ello, observa que preprocesamos el mínimo coste de ensamblar cada pieza en un vector llamado `minCoste`."
   ]
  },
  {
   "cell_type": "markdown",
   "metadata": {},
   "source": [
    "<a id='actividad3'></a>\n",
    "# Actividad 3: Obtención de estadísticas\n",
    "\n",
    "En esta parte básicamente debes añadir unos contadores en el cuerpo principal de \"Ramificación y Poda\" para calcular las siguientes cosas:\n",
    "\n",
    "- La variable `iterations` cuenta el nº de iteraciones del bucle `while` principal.\n",
    "- La variable `maxA` contabiliza el tamaño máximo que ha llegado a alcanzar el conjunto de estados activos a lo largo de la ejecución.\n",
    "- `gen_states` cuenta el número total de estados generados por `branch` a lo largo de toda la ejecución.\n",
    "- `podas_opt` contabiliza el nº de podas por cota optimista (estados que se han generado, que no son terminales y que no se incluyen en el conjunto de estados activos porque no pueden dar lugar a soluciones mejores que la que tenemos hasta el momento).\n",
    "\n",
    "Esas variables ya están declaradas y se muestra el resultado por salida estándar. Falta actualizar estas variables donde corresponda."
   ]
  },
  {
   "cell_type": "markdown",
   "metadata": {},
   "source": [
    "<a id='codigo'></a>\n",
    "# Código a completar\n",
    "\n",
    "Debes realizar las 3 actividades anteriores en la siguiente celda de código:"
   ]
  },
  {
   "cell_type": "code",
   "execution_count": 5,
   "metadata": {},
   "outputs": [],
   "source": [
    "import numpy as np\n",
    "import heapq\n",
    "\n",
    "def ensamblaje(costes, verbosity=1, initial='greedy'):\n",
    "    \"\"\"\n",
    "    costes: np.ndarray MxM de enteros >= 0\n",
    "    costes[i,j] = coste de montar la pieza i en el instante j.\n",
    "    Devuelve (x, fx) = (mejor permutación, su coste).\n",
    "    \"\"\"\n",
    "\n",
    "    # comprobaciones básicas\n",
    "    assert isinstance(costes, np.ndarray), \"costes debe ser ndarray\"\n",
    "    assert costes.ndim == 2 and costes.shape[0] == costes.shape[1], \"matriz cuadrada\"\n",
    "    assert np.issubdtype(costes.dtype, np.integer) and costes.min() >= 0, \\\n",
    "           \"costes debe contener enteros no negativos\"\n",
    "\n",
    "    M = costes.shape[0]\n",
    "    minCoste = [int(costes[i, :].min()) for i in range(M)]\n",
    "    if verbosity > 0:\n",
    "        print(\"minCoste:\", minCoste)\n",
    "\n",
    "    def branch(s_score, s):\n",
    "        k = len(s)\n",
    "        usados = set(s)\n",
    "        hijos = []\n",
    "        for j in range(M):\n",
    "            if j not in usados:\n",
    "                c = int(costes[k, j])\n",
    "                bound_hijo = s_score + c - minCoste[k]\n",
    "                hijos.append((bound_hijo, s + [j]))\n",
    "        return hijos\n",
    "\n",
    "    def is_complete(s):\n",
    "        return len(s) == M\n",
    "\n",
    "    def naive_solution():\n",
    "        score = 0\n",
    "        sol = []\n",
    "        for i in range(M):\n",
    "            sol.append(i)\n",
    "            score += int(costes[i, i])\n",
    "        return score, sol\n",
    "\n",
    "    def greedy_solution():\n",
    "        disponibles = set(range(M))\n",
    "        sol = [None]*M\n",
    "        score = 0\n",
    "        for i in range(M):\n",
    "            j_best = min(disponibles, key=lambda j: costes[i, j])\n",
    "            sol[i] = j_best\n",
    "            score += int(costes[i, j_best])\n",
    "            disponibles.remove(j_best)\n",
    "        return score, sol\n",
    "\n",
    "    if initial == 'greedy':\n",
    "        initial_solution = greedy_solution\n",
    "    elif initial in ('naive', 'naif'):\n",
    "        initial_solution = naive_solution\n",
    "    else:\n",
    "        raise ValueError(f\"initial option '{initial}' not supported\")\n",
    "\n",
    "    fx, x = initial_solution()\n",
    "    if verbosity > 0:\n",
    "        print(f\"Solución inicial ({initial}): x = {x}, coste = {fx}\")\n",
    "\n",
    "    A = []\n",
    "    heapq.heappush(A, (sum(minCoste), []))\n",
    "\n",
    "    iterations = gen_states = podas_opt = maxA = 0\n",
    "\n",
    "    while A and A[0][0] < fx:\n",
    "        iterations += 1\n",
    "        maxA = max(maxA, len(A))\n",
    "        bound_p, s = heapq.heappop(A)\n",
    "\n",
    "        for child_bound, child in branch(bound_p, s):\n",
    "            gen_states += 1\n",
    "            if is_complete(child):\n",
    "                if child_bound < fx:\n",
    "                    if verbosity > 0:\n",
    "                        print(\"MEJORAMOS\", x, fx, \"→\", child, child_bound)\n",
    "                    fx, x = child_bound, child\n",
    "            else:\n",
    "                if child_bound < fx:\n",
    "                    heapq.heappush(A, (child_bound, child))\n",
    "                else:\n",
    "                    podas_opt += 1\n",
    "\n",
    "    if verbosity > 0:\n",
    "        print(f\"{iterations} iteraciones, max|A|={maxA}, \"\n",
    "              f\"estados_generados={gen_states}, estados_podados={podas_opt}\")\n",
    "\n",
    "    return x, fx\n"
   ]
  },
  {
   "cell_type": "markdown",
   "metadata": {},
   "source": [
    "## Prueba con una matriz conocida"
   ]
  },
  {
   "cell_type": "code",
   "execution_count": 6,
   "metadata": {},
   "outputs": [
    {
     "name": "stdout",
     "output_type": "stream",
     "text": [
      "minCoste: [3, 1, 3, 4]\n",
      "Solución inicial (greedy): x = [3, 0, 2, 1], coste = 17\n",
      "MEJORAMOS [3, 0, 2, 1] 17 → [1, 0, 3, 2] 16\n",
      "MEJORAMOS [1, 0, 3, 2] 16 → [1, 3, 2, 0] 15\n",
      "16 iteraciones, max|A|=7, estados_generados=33, estados_podados=11\n"
     ]
    },
    {
     "data": {
      "text/plain": [
       "([1, 3, 2, 0], 15)"
      ]
     },
     "execution_count": 6,
     "metadata": {},
     "output_type": "execute_result"
    }
   ],
   "source": [
    "prueba = np.array([[4, 4, 5, 3],\n",
    "                   [2, 8, 9, 1],\n",
    "                   [6, 9, 6, 3],\n",
    "                   [4, 6, 7, 7]],dtype=int)\n",
    "ensamblaje(prueba)"
   ]
  },
  {
   "cell_type": "markdown",
   "metadata": {},
   "source": [
    "Si los cambios realizados son correctos (y nosotros tampoco nos hemos equivocado por nuestra parte), el resultado de la ejecución anterior sería:\n",
    "\n",
    "```python\n",
    "minCoste: [3, 1, 3, 4]\n",
    "Solución inicial (voraz): [3, 0, 2, 1] de coste 17\n",
    "MEJORAMOS [3, 0, 2, 1] 17 CON [1, 0, 3, 2] 16\n",
    "MEJORAMOS [1, 0, 3, 2] 16 CON [1, 3, 2, 0] 15\n",
    "16 iteraciones, max|A|=7, estados_generados=33, estados_podados=11\n",
    "```\n",
    "\n",
    "y el resultado devuelto sería:\n",
    "\n",
    "```python\n",
    "([1, 3, 2, 0], 15)\n",
    "```\n",
    "\n",
    "Compara los valores reportados con la siguiente ejecución que inicializa la mejor solución con la solución *naif*:"
   ]
  },
  {
   "cell_type": "code",
   "execution_count": 7,
   "metadata": {},
   "outputs": [
    {
     "name": "stdout",
     "output_type": "stream",
     "text": [
      "minCoste: [3, 1, 3, 4]\n",
      "Solución inicial (naif): x = [0, 1, 2, 3], coste = 25\n",
      "MEJORAMOS [0, 1, 2, 3] 25 → [1, 0, 3, 2] 16\n",
      "MEJORAMOS [1, 0, 3, 2] 16 → [1, 3, 2, 0] 15\n",
      "16 iteraciones, max|A|=14, estados_generados=33, estados_podados=4\n"
     ]
    },
    {
     "data": {
      "text/plain": [
       "([1, 3, 2, 0], 15)"
      ]
     },
     "execution_count": 7,
     "metadata": {},
     "output_type": "execute_result"
    }
   ],
   "source": [
    "ensamblaje(prueba, initial='naif')"
   ]
  },
  {
   "cell_type": "markdown",
   "metadata": {},
   "source": [
    "¿Influye la solución inicial en el número de estados generados?"
   ]
  },
  {
   "cell_type": "markdown",
   "metadata": {},
   "source": [
    "## Prueba con generador de instancias\n",
    "\n",
    "A continuación se utiliza la función `genera_instancia` definida al inicio del boletín y que nos permite generar instancias de tallas que puedes controlar para realizar experimentos y comparar el uso de la función `"
   ]
  },
  {
   "cell_type": "code",
   "execution_count": 8,
   "metadata": {},
   "outputs": [
    {
     "name": "stdout",
     "output_type": "stream",
     "text": [
      "Con inicialización voraz:\n",
      "minCoste: [116, 8, 32, 105, 62, 251, 137, 51, 68, 49]\n",
      "Solución inicial (greedy): x = [5, 6, 7, 1, 2, 9, 4, 8, 0, 3], coste = 2301\n",
      "MEJORAMOS [5, 6, 7, 1, 2, 9, 4, 8, 0, 3] 2301 → [1, 6, 7, 3, 2, 9, 4, 5, 0, 8] 1479\n",
      "MEJORAMOS [1, 6, 7, 3, 2, 9, 4, 5, 0, 8] 1479 → [1, 8, 7, 3, 2, 6, 4, 5, 0, 9] 1243\n",
      "575 iteraciones, max|A|=684, estados_generados=2380, estados_podados=1096\n",
      "([1, 8, 7, 3, 2, 6, 4, 5, 0, 9], 1243)\n",
      "\n",
      "Ahora mismos datos con inicialización naif:\n",
      "minCoste: [116, 8, 32, 105, 62, 251, 137, 51, 68, 49]\n",
      "Solución inicial (naif): x = [0, 1, 2, 3, 4, 5, 6, 7, 8, 9], coste = 2053\n",
      "MEJORAMOS [0, 1, 2, 3, 4, 5, 6, 7, 8, 9] 2053 → [1, 6, 7, 3, 2, 9, 4, 5, 0, 8] 1479\n",
      "MEJORAMOS [1, 6, 7, 3, 2, 9, 4, 5, 0, 8] 1479 → [1, 8, 7, 3, 2, 6, 4, 5, 0, 9] 1243\n",
      "575 iteraciones, max|A|=684, estados_generados=2380, estados_podados=1096\n",
      "([1, 8, 7, 3, 2, 6, 4, 5, 0, 9], 1243)\n"
     ]
    }
   ],
   "source": [
    "costes = genera_instancia(M=10)\n",
    "print(\"Con inicialización voraz:\")\n",
    "sol1 = ensamblaje(costes)\n",
    "print(sol1)\n",
    "print(\"\\nAhora mismos datos con inicialización naif:\")\n",
    "sol2 = ensamblaje(costes, initial='naif')\n",
    "print(sol2)\n",
    "\n",
    "# nota: sol1 no necesariamente ha de coincidir con sol2 (podría haber empates), pero el coste asociado sí"
   ]
  }
 ],
 "metadata": {
  "kernelspec": {
   "display_name": "Python 3",
   "language": "python",
   "name": "python3"
  },
  "language_info": {
   "codemirror_mode": {
    "name": "ipython",
    "version": 3
   },
   "file_extension": ".py",
   "mimetype": "text/x-python",
   "name": "python",
   "nbconvert_exporter": "python",
   "pygments_lexer": "ipython3",
   "version": "3.12.10"
  }
 },
 "nbformat": 4,
 "nbformat_minor": 2
}
